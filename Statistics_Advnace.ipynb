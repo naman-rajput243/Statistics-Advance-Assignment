{
  "nbformat": 4,
  "nbformat_minor": 0,
  "metadata": {
    "colab": {
      "provenance": []
    },
    "kernelspec": {
      "name": "python3",
      "display_name": "Python 3"
    },
    "language_info": {
      "name": "python"
    }
  },
  "cells": [
    {
      "cell_type": "markdown",
      "source": [
        "Question 1: What is a random variable in probability theory?\n",
        "\n",
        "Ans: Random Variable is set of possible outcomes from a random experiment"
      ],
      "metadata": {
        "id": "XOEkyIauKocx"
      }
    },
    {
      "cell_type": "markdown",
      "source": [
        "Question 2: What are the types of random variables?\n",
        "\n",
        "Ans: a) Discrete Random Variable        b) Continuous Random Variable"
      ],
      "metadata": {
        "id": "BVX-9ODcLK20"
      }
    },
    {
      "cell_type": "markdown",
      "source": [
        "Question 3: Explain the difference between discrete and continuous distributions.\n",
        "\n",
        "\n",
        "Ans: In discrete distribution values are distinct and seperable. Used basically for counting\n",
        "\n",
        "Continuous Distribution is infinitely divisible and within a range. Basically used in measuring"
      ],
      "metadata": {
        "id": "b4Q-cyOsLkhs"
      }
    },
    {
      "cell_type": "markdown",
      "source": [
        "Question 4: What is a binomial distribution, and how is it used in probability?\n",
        "\n",
        "Ans: Binomial Distribution is a discrete distribution with finite number of trials each with two possible outcome. The most accurate example for probability is tossing of coin either it comes head or tails (two outcomes)"
      ],
      "metadata": {
        "id": "6WnQEbZ0MPtM"
      }
    },
    {
      "cell_type": "markdown",
      "source": [
        "Question 5: What is the standard normal distribution, and why is it important?\n",
        "\n",
        "Ans: Standard normal distribution is a special case of normal distribution where mean is 0 and standard deviation is 1. It is a bell shaped, symmetric curve centered at\n",
        "mean(0)\n",
        "\n",
        "Simplifies the calculation by converting normal distribution to standard normal distribution by calculating the z-score\n",
        "\n"
      ],
      "metadata": {
        "id": "6HGTWUU7NoLW"
      }
    },
    {
      "cell_type": "markdown",
      "source": [
        "Question 6: What is the Central Limit Theorem (CLT), and why is it critical in statistics?\n",
        "\n",
        "Ans: Central Limit Theorem states that if you take a large number of sample from population, the distribution of the sample means will approximate a normal distribution"
      ],
      "metadata": {
        "id": "_VGpmVuRObB4"
      }
    },
    {
      "cell_type": "markdown",
      "source": [
        "Question 7: What is the significance of confidence intervals in statistical analysis?\n",
        "\n",
        "Ans: Confidence interval is a range of value where a parameter (mean or variance) of a population lies"
      ],
      "metadata": {
        "id": "Rh2MbfssPAju"
      }
    },
    {
      "cell_type": "markdown",
      "source": [
        "Question 8: What is the concept of expected value in a probability distribution?\n",
        "\n",
        "Ans: Concept of expected value in a probability distribution is the weighted average value of all the outcome."
      ],
      "metadata": {
        "id": "-KE7S4xZPq0S"
      }
    },
    {
      "cell_type": "code",
      "source": [
        "# Question 9: Write a Python program to generate 1000 random numbers from a normal distribution with mean = 50 and standard deviation = 5. Compute its mean and standard\n",
        "#                    deviation using NumPy, and draw a histogram to visualize the distribution.\n",
        "\n",
        "import numpy as np\n",
        "random_numbers = np.random.normal(loc=50, scale=5, size=1000)\n",
        "m = random_numbers.mean()\n",
        "sd = random_numbers.std()\n",
        "\n",
        "print(f\"Mean is {m}\")\n",
        "print(f\"Standard Deviation is {sd}\")\n",
        "\n",
        "import matplotlib.pyplot as plt\n",
        "plt.hist(random_numbers, bins = 30, color= \"skyblue\")\n",
        "plt.title(\"Histogram for the values generated\")\n",
        "plt.xlabel(\"Values\")\n",
        "plt.ylabel(\"Frequency\")\n",
        "plt.show()"
      ],
      "metadata": {
        "colab": {
          "base_uri": "https://localhost:8080/",
          "height": 508
        },
        "id": "vfq7KpTWQLmM",
        "outputId": "7ec9b5d3-897e-4f08-fe37-b5258909ba56"
      },
      "execution_count": 8,
      "outputs": [
        {
          "output_type": "stream",
          "name": "stdout",
          "text": [
            "Mean is 49.638550030165504\n",
            "Standard Deviation is 4.920206275743551\n"
          ]
        },
        {
          "output_type": "display_data",
          "data": {
            "text/plain": [
              "<Figure size 640x480 with 1 Axes>"
            ],
            "image/png": "[encoded data removed]"
          },
          "metadata": {}
        }
      ]
    },
    {
      "cell_type": "code",
      "source": [
        "!pip install scipy\n"
      ],
      "metadata": {
        "colab": {
          "base_uri": "https://localhost:8080/"
        },
        "id": "_zTmpPTPUPMa",
        "outputId": "879fb3ae-17e6-4b06-f516-f49d4bf79f06"
      },
      "execution_count": 11,
      "outputs": [
        {
          "output_type": "stream",
          "name": "stdout",
          "text": [
            "Requirement already satisfied: scipy in /usr/local/lib/python3.11/dist-packages (1.16.1)\n",
            "Requirement already satisfied: numpy<2.6,>=1.25.2 in /usr/local/lib/python3.11/dist-packages (from scipy) (2.0.2)\n"
          ]
        }
      ]
    },
    {
      "cell_type": "code",
      "source": [
        "# Question 10: You are working as a data analyst for a retail company. The company has collected daily sales data for 2 years and wants you to identify the overall sales trend.\n",
        "#                       daily_sales = [220, 245, 210, 265, 230, 250, 260, 275, 240, 255, 235, 260, 245, 250, 225, 270, 265, 255, 250, 260]\n",
        "#                       ● Explain how you would apply the Central Limit Theorem to estimate the average sales with a 95% confidence interval.\n",
        "#                       ● Write the Python code to compute the mean sales and its confidence interval.\n",
        "\n",
        "\n",
        "\"\"\" We would apply CLT to estimate the avg saleswith 95% confidence interval by firstly calculating the mean, the the standard deviation\n",
        "     Then we would computer the Standard error and finally construct the 95% confidence interval\"\"\"\n",
        "\n",
        "import numpy as np\n",
        "import scipy.stats as stats\n",
        "\n",
        "daily_sales = [220, 245, 210, 265, 230, 250, 260, 275, 240, 255, 235, 260, 245, 250, 225, 270, 265, 255, 250, 260]\n",
        "sales_array = np.array(daily_sales)\n",
        "\n",
        "n = len(sales_array)\n",
        "\n",
        "mean = np.mean(sales_array)\n",
        "std_dev = np.std(sales_array)\n",
        "std_error = std_dev / np.sqrt(n)\n",
        "\n",
        "z_score_for_95 = 1.96\n",
        "\n",
        "margin_of_error = z_score_for_95 * std_error\n",
        "lower_bound = mean - margin_of_error\n",
        "upper_bound = mean + margin_of_error\n",
        "\n",
        "\n",
        "print(f\"Sample Mean: {mean:}\")\n",
        "print(f\"95% Confidence Interval: ({lower_bound:.2f}, {upper_bound:.2f})\")\n",
        "\n"
      ],
      "metadata": {
        "colab": {
          "base_uri": "https://localhost:8080/"
        },
        "id": "Ma4nsSd1QWWE",
        "outputId": "7e081fb3-8698-48f8-f7a2-0b3123d734d2"
      },
      "execution_count": 15,
      "outputs": [
        {
          "output_type": "stream",
          "name": "stdout",
          "text": [
            "Sample Mean: 248.25\n",
            "95% Confidence Interval: (240.87, 255.63)\n"
          ]
        }
      ]
    },
    {
      "cell_type": "code",
      "source": [],
      "metadata": {
        "id": "496RNZEPUDxh"
      },
      "execution_count": null,
      "outputs": []
    }
  ]
}